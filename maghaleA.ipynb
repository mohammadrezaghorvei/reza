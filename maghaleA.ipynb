{
  "nbformat": 4,
  "nbformat_minor": 0,
  "metadata": {
    "colab": {
      "name": "maghaleA.ipynb",
      "provenance": [],
      "collapsed_sections": [],
      "include_colab_link": true
    },
    "kernelspec": {
      "name": "python3",
      "display_name": "Python 3"
    },
    "accelerator": "GPU"
  },
  "cells": [
    {
      "cell_type": "markdown",
      "metadata": {
        "id": "view-in-github",
        "colab_type": "text"
      },
      "source": [
        "<a href=\"https://colab.research.google.com/github/mohammadrezaghorvei/reza/blob/master/maghaleA.ipynb\" target=\"_parent\"><img src=\"https://colab.research.google.com/assets/colab-badge.svg\" alt=\"Open In Colab\"/></a>"
      ]
    },
    {
      "cell_type": "code",
      "metadata": {
        "id": "fhgF8Ztmsd1Y",
        "colab_type": "code",
        "colab": {}
      },
      "source": [
        "import tensorflow as tf\n",
        "import numpy as np\n",
        "import pandas as pd\n",
        "import matplotlib.pyplot as plt  \n",
        "from tensorflow import feature_column as fc\n",
        "from tensorflow.python.keras.datasets import cifar10,cifar100\n",
        "from tensorflow.python.keras.models import Sequential,Model\n",
        "from tensorflow.python.keras.layers import Input,Dense,Conv1D,MaxPooling1D,Flatten,Reshape,UpSampling1D\n",
        "from scipy.io import loadmat\n",
        "from tensorflow.python.keras.optimizers import Adam\n",
        "import os\n",
        "from sklearn.manifold import TSNE\n",
        "from keras import utils\n",
        "from sklearn.decomposition import PCA\n",
        "import cv2\n",
        "from sklearn.model_selection import train_test_split \n",
        "import pywt\n",
        "from tensorflow.keras.applications import InceptionV3,ResNet50,VGG19,DenseNet201,NASNetLarge,InceptionResNetV2,ResNet152V2,EfficientNetB7,VGG16,Xception,MobileNetV2,ResNet152V2\n",
        "from sklearn.model_selection import KFold\n",
        "from sklearn.model_selection import train_test_split\n",
        "from sklearn.utils import shuffle\n",
        "from sklearn.svm import SVC\n",
        "import numpy as np\n",
        "import pandas as pd\n",
        "import matplotlib.pyplot as plt\n",
        "import seaborn as sns\n",
        "from sklearn.model_selection import train_test_split\n",
        "from sklearn.metrics import accuracy_score\n",
        "from sklearn.feature_selection import VarianceThreshold\n",
        "from sklearn.feature_selection import f_classif, f_regression\n",
        "from sklearn.feature_selection import SelectKBest, SelectPercentile\n",
        "from sklearn import metrics\n",
        "from sklearn.preprocessing import StandardScaler \n",
        "from sklearn.metrics import mean_squared_error,r2_score\n",
        "from sklearn.model_selection import KFold\n",
        "#from sklearn.cross_validation import KFold\n",
        "from sklearn.ensemble import BaggingClassifier\n",
        "import sklearn\n",
        "from sklearn.model_selection import cross_val_score\n",
        "from sklearn.metrics import roc_auc_score\n",
        "from matplotlib import pyplot\n",
        "from sklearn.ensemble import AdaBoostClassifier\n",
        "from sklearn.metrics import roc_curve, auc\n",
        "from packaging.version import parse\n",
        "from sklearn.model_selection import StratifiedKFold\n",
        "from scipy import interp\n",
        "from sklearn.naive_bayes import GaussianNB\n",
        "from sklearn.tree import DecisionTreeClassifier\n",
        "from sklearn.ensemble import GradientBoostingClassifier\n",
        "from sklearn.neighbors import KNeighborsClassifier\n",
        "from sklearn.naive_bayes import MultinomialNB\n",
        "from sklearn.naive_bayes import BernoulliNB\n",
        "from sklearn.ensemble import RandomForestClassifier\n",
        "from sklearn.svm import SVC\n",
        "from sklearn.feature_selection import VarianceThreshold, mutual_info_classif, mutual_info_regression\n",
        "from sklearn.feature_selection import SelectFromModel\n",
        "from sklearn.linear_model import LinearRegression, LogisticRegression\n",
        "from sklearn.ensemble import ExtraTreesClassifier \n",
        "from sklearn.feature_selection import RFE\n",
        "from mlxtend.feature_selection import SequentialFeatureSelector as SFS\n",
        "import seaborn as sb\n",
        "from sklearn.linear_model import Lasso\n",
        "from sklearn.svm import SVC\n",
        "from sklearn.svm import LinearSVC\n",
        "from sklearn.multiclass import OneVsRestClassifier\n",
        "from sklearn import svm, datasets\n",
        "from sklearn.decomposition import PCA\n",
        "from sklearn.linear_model import LogisticRegression\n",
        "from sklearn.metrics import auc\n",
        "from sklearn.metrics import plot_roc_curve\n",
        "from sklearn.model_selection import StratifiedKFold\n",
        "import matplotlib.patches as patches\n",
        "from itertools import cycle\n",
        "from sklearn.preprocessing import label_binarize\n",
        "from sklearn.linear_model import RidgeClassifier\n",
        "from sklearn.metrics import confusion_matrix\n",
        "from sklearn.tree import DecisionTreeClassifier\n",
        "from sklearn.metrics import f1_score\n",
        "from tensorflow.keras.utils import to_categorical"
      ],
      "execution_count": null,
      "outputs": []
    },
    {
      "cell_type": "code",
      "metadata": {
        "id": "kqTxnao6jqOp",
        "colab_type": "code",
        "colab": {}
      },
      "source": [
        "from google.colab import drive\n",
        "drive.mount('/content/drive')"
      ],
      "execution_count": null,
      "outputs": []
    },
    {
      "cell_type": "markdown",
      "metadata": {
        "id": "CNhLELRdtxqU",
        "colab_type": "text"
      },
      "source": [
        "model A data set A"
      ]
    },
    {
      "cell_type": "code",
      "metadata": {
        "id": "gR2-SFNtslBM",
        "colab_type": "code",
        "colab": {}
      },
      "source": [
        "x_train=np.load('/content/drive/My Drive/datasets/dataseta/xtrain.npy')\n",
        "y_train=np.load('/content/drive/My Drive/datasets/dataseta/ytrain.npy')\n",
        "x_test=np.load('/content/drive/My Drive/datasets/dataseta/xtest.npy')\n",
        "y_test=np.load('/content/drive/My Drive/datasets/dataseta/ytest.npy')"
      ],
      "execution_count": null,
      "outputs": []
    },
    {
      "cell_type": "code",
      "metadata": {
        "id": "p2iIYRyssoYZ",
        "colab_type": "code",
        "colab": {}
      },
      "source": [
        "finalscores=[]"
      ],
      "execution_count": null,
      "outputs": []
    },
    {
      "cell_type": "code",
      "metadata": {
        "id": "7Bk1Yu0Us4Vx",
        "colab_type": "code",
        "colab": {}
      },
      "source": [
        "model =DenseNet201(include_top=False,weights='imagenet',input_shape=(224,224,3))\n",
        "x = model.output\n",
        "x=tf.keras.layers.GlobalAveragePooling2D()(x)\n",
        "x=tf.keras.layers.Dense(1024,activation='relu')(x)\n",
        "x=tf.keras.layers.Dense(512,activation='relu')(x)\n",
        "x=tf.keras.layers.Dense(10,activation='softmax')(x)\n",
        "model2 = tf.keras.models.Model(inputs=model.input, outputs=x)\n",
        "for layer in model2.layers[:-3]:\n",
        "  layer.trainable = False\n",
        "model2.summary()\n",
        "model2.compile(optimizer='Adam',loss='categorical_crossentropy',metrics=['accuracy'])\n",
        "class myCallback(tf.keras.callbacks.Callback):\n",
        "  def on_epoch_end(self, epoch, logs={}):\n",
        "    if(logs.get('accuracy') == 1):\n",
        "      if(logs.get('val_accuracy') == 1):\n",
        "        self.model.stop_training = True\n",
        "callbacks = [myCallback()]\n",
        "history=model2.fit(x_train,y_train,batch_size=128,epochs=20,validation_data=(x_test,y_test),shuffle=True,callbacks=callbacks)\n",
        "q=model2.predict(x_test)\n",
        "yhat=np.argmax(q,axis=1)\n",
        "y=np.argmax(y_test,axis=1)\n",
        "plt.plot(history.history['accuracy'],marker='+',c='red')\n",
        "plt.plot(history.history['loss'],marker='+',c='blue')\n",
        "plt.plot(history.history['val_accuracy'],marker='+',c='green')\n",
        "plt.plot(history.history['val_loss'],marker='+',c='orange')\n",
        "plt.legend(['acc','loss','val_acc','val_loss'])\n",
        "plt.show()\n",
        "scores=f1_score(yhat,y,average='micro')\n",
        "finalscores.append(scores)"
      ],
      "execution_count": null,
      "outputs": []
    },
    {
      "cell_type": "code",
      "metadata": {
        "id": "QTKXHB9js6vN",
        "colab_type": "code",
        "colab": {}
      },
      "source": [
        "model =DenseNet201(include_top=False,weights='imagenet',input_shape=(224,224,3))\n",
        "x = model.output\n",
        "x=tf.keras.layers.GlobalAveragePooling2D()(x)\n",
        "model3 = tf.keras.models.Model(inputs=model.input, outputs=x)\n",
        "for layer in model3.layers[:]:\n",
        "  layer.trainable = False\n",
        "model3.summary()"
      ],
      "execution_count": null,
      "outputs": []
    },
    {
      "cell_type": "code",
      "metadata": {
        "id": "0U9yZtSH4AAs",
        "colab_type": "code",
        "colab": {}
      },
      "source": [
        "from tensorflow.python.keras import backend as k"
      ],
      "execution_count": null,
      "outputs": []
    },
    {
      "cell_type": "code",
      "metadata": {
        "id": "m9TjdQvKEpzl",
        "colab_type": "code",
        "colab": {}
      },
      "source": [
        "import tensorflow as tf"
      ],
      "execution_count": null,
      "outputs": []
    },
    {
      "cell_type": "code",
      "metadata": {
        "id": "9WTct9zsEodM",
        "colab_type": "code",
        "colab": {}
      },
      "source": [
        "tf.compat.v1.disable_eager_execution()"
      ],
      "execution_count": null,
      "outputs": []
    },
    {
      "cell_type": "code",
      "metadata": {
        "id": "LvRBgKzEBkYN",
        "colab_type": "code",
        "colab": {}
      },
      "source": [
        "output_fn = k.function([model3.input], [model3.output])"
      ],
      "execution_count": null,
      "outputs": []
    },
    {
      "cell_type": "code",
      "metadata": {
        "id": "X8uoH8OeCTJ1",
        "colab_type": "code",
        "colab": {}
      },
      "source": [
        "output_image = output_fn(x_train)"
      ],
      "execution_count": null,
      "outputs": []
    },
    {
      "cell_type": "code",
      "metadata": {
        "id": "pRuu0njz6HLQ",
        "colab_type": "code",
        "colab": {
          "base_uri": "https://localhost:8080/",
          "height": 34
        },
        "outputId": "1a48e5f8-a51e-4450-b78e-cfdb9f4a1d50"
      },
      "source": [
        "k.learning_phase()"
      ],
      "execution_count": null,
      "outputs": [
        {
          "output_type": "execute_result",
          "data": {
            "text/plain": [
              "<function tensorflow.python.keras.backend.learning_phase>"
            ]
          },
          "metadata": {
            "tags": []
          },
          "execution_count": 4
        }
      ]
    },
    {
      "cell_type": "code",
      "metadata": {
        "id": "1mxNkjOl18K9",
        "colab_type": "code",
        "colab": {
          "base_uri": "https://localhost:8080/",
          "height": 306
        },
        "outputId": "942fc346-8893-4050-b1eb-acf618d85acd"
      },
      "source": [
        "fn = k.function([model3.input,k.learning_phase()], [model3.output])"
      ],
      "execution_count": null,
      "outputs": [
        {
          "output_type": "error",
          "ename": "ValueError",
          "evalue": "ignored",
          "traceback": [
            "\u001b[0;31m---------------------------------------------------------------------------\u001b[0m",
            "\u001b[0;31mValueError\u001b[0m                                Traceback (most recent call last)",
            "\u001b[0;32m<ipython-input-9-af0930157a91>\u001b[0m in \u001b[0;36m<module>\u001b[0;34m()\u001b[0m\n\u001b[0;32m----> 1\u001b[0;31m \u001b[0mfn\u001b[0m \u001b[0;34m=\u001b[0m \u001b[0mk\u001b[0m\u001b[0;34m.\u001b[0m\u001b[0mfunction\u001b[0m\u001b[0;34m(\u001b[0m\u001b[0;34m[\u001b[0m\u001b[0mmodel3\u001b[0m\u001b[0;34m.\u001b[0m\u001b[0minput\u001b[0m\u001b[0;34m,\u001b[0m\u001b[0mk\u001b[0m\u001b[0;34m.\u001b[0m\u001b[0mlearning_phase\u001b[0m\u001b[0;34m(\u001b[0m\u001b[0;34m)\u001b[0m\u001b[0;34m]\u001b[0m\u001b[0;34m,\u001b[0m \u001b[0;34m[\u001b[0m\u001b[0mmodel3\u001b[0m\u001b[0;34m.\u001b[0m\u001b[0moutput\u001b[0m\u001b[0;34m]\u001b[0m\u001b[0;34m)\u001b[0m\u001b[0;34m\u001b[0m\u001b[0;34m\u001b[0m\u001b[0m\n\u001b[0m",
            "\u001b[0;32m/usr/local/lib/python3.6/dist-packages/tensorflow/python/keras/backend.py\u001b[0m in \u001b[0;36mfunction\u001b[0;34m(inputs, outputs, updates, name, **kwargs)\u001b[0m\n\u001b[1;32m   3934\u001b[0m     \u001b[0;32mfrom\u001b[0m \u001b[0mtensorflow\u001b[0m\u001b[0;34m.\u001b[0m\u001b[0mpython\u001b[0m\u001b[0;34m.\u001b[0m\u001b[0mkeras\u001b[0m \u001b[0;32mimport\u001b[0m \u001b[0mmodels\u001b[0m  \u001b[0;31m# pylint: disable=g-import-not-at-top\u001b[0m\u001b[0;34m\u001b[0m\u001b[0;34m\u001b[0m\u001b[0m\n\u001b[1;32m   3935\u001b[0m     \u001b[0;32mfrom\u001b[0m \u001b[0mtensorflow\u001b[0m\u001b[0;34m.\u001b[0m\u001b[0mpython\u001b[0m\u001b[0;34m.\u001b[0m\u001b[0mkeras\u001b[0m\u001b[0;34m.\u001b[0m\u001b[0mutils\u001b[0m \u001b[0;32mimport\u001b[0m \u001b[0mtf_utils\u001b[0m  \u001b[0;31m# pylint: disable=g-import-not-at-top\u001b[0m\u001b[0;34m\u001b[0m\u001b[0;34m\u001b[0m\u001b[0m\n\u001b[0;32m-> 3936\u001b[0;31m     \u001b[0mmodel\u001b[0m \u001b[0;34m=\u001b[0m \u001b[0mmodels\u001b[0m\u001b[0;34m.\u001b[0m\u001b[0mModel\u001b[0m\u001b[0;34m(\u001b[0m\u001b[0minputs\u001b[0m\u001b[0;34m=\u001b[0m\u001b[0minputs\u001b[0m\u001b[0;34m,\u001b[0m \u001b[0moutputs\u001b[0m\u001b[0;34m=\u001b[0m\u001b[0moutputs\u001b[0m\u001b[0;34m)\u001b[0m\u001b[0;34m\u001b[0m\u001b[0;34m\u001b[0m\u001b[0m\n\u001b[0m\u001b[1;32m   3937\u001b[0m \u001b[0;34m\u001b[0m\u001b[0m\n\u001b[1;32m   3938\u001b[0m     \u001b[0mwrap_outputs\u001b[0m \u001b[0;34m=\u001b[0m \u001b[0misinstance\u001b[0m\u001b[0;34m(\u001b[0m\u001b[0moutputs\u001b[0m\u001b[0;34m,\u001b[0m \u001b[0mlist\u001b[0m\u001b[0;34m)\u001b[0m \u001b[0;32mand\u001b[0m \u001b[0mlen\u001b[0m\u001b[0;34m(\u001b[0m\u001b[0moutputs\u001b[0m\u001b[0;34m)\u001b[0m \u001b[0;34m==\u001b[0m \u001b[0;36m1\u001b[0m\u001b[0;34m\u001b[0m\u001b[0;34m\u001b[0m\u001b[0m\n",
            "\u001b[0;32m/usr/local/lib/python3.6/dist-packages/tensorflow/python/keras/engine/training.py\u001b[0m in \u001b[0;36m__new__\u001b[0;34m(cls, *args, **kwargs)\u001b[0m\n\u001b[1;32m    240\u001b[0m       \u001b[0;31m# Functional model\u001b[0m\u001b[0;34m\u001b[0m\u001b[0;34m\u001b[0m\u001b[0;34m\u001b[0m\u001b[0m\n\u001b[1;32m    241\u001b[0m       \u001b[0;32mfrom\u001b[0m \u001b[0mtensorflow\u001b[0m\u001b[0;34m.\u001b[0m\u001b[0mpython\u001b[0m\u001b[0;34m.\u001b[0m\u001b[0mkeras\u001b[0m\u001b[0;34m.\u001b[0m\u001b[0mengine\u001b[0m \u001b[0;32mimport\u001b[0m \u001b[0mfunctional\u001b[0m  \u001b[0;31m# pylint: disable=g-import-not-at-top\u001b[0m\u001b[0;34m\u001b[0m\u001b[0;34m\u001b[0m\u001b[0m\n\u001b[0;32m--> 242\u001b[0;31m       \u001b[0;32mreturn\u001b[0m \u001b[0mfunctional\u001b[0m\u001b[0;34m.\u001b[0m\u001b[0mFunctional\u001b[0m\u001b[0;34m(\u001b[0m\u001b[0;34m*\u001b[0m\u001b[0margs\u001b[0m\u001b[0;34m,\u001b[0m \u001b[0;34m**\u001b[0m\u001b[0mkwargs\u001b[0m\u001b[0;34m)\u001b[0m\u001b[0;34m\u001b[0m\u001b[0;34m\u001b[0m\u001b[0m\n\u001b[0m\u001b[1;32m    243\u001b[0m     \u001b[0;32melse\u001b[0m\u001b[0;34m:\u001b[0m\u001b[0;34m\u001b[0m\u001b[0;34m\u001b[0m\u001b[0m\n\u001b[1;32m    244\u001b[0m       \u001b[0;32mreturn\u001b[0m \u001b[0msuper\u001b[0m\u001b[0;34m(\u001b[0m\u001b[0mModel\u001b[0m\u001b[0;34m,\u001b[0m \u001b[0mcls\u001b[0m\u001b[0;34m)\u001b[0m\u001b[0;34m.\u001b[0m\u001b[0m__new__\u001b[0m\u001b[0;34m(\u001b[0m\u001b[0mcls\u001b[0m\u001b[0;34m,\u001b[0m \u001b[0;34m*\u001b[0m\u001b[0margs\u001b[0m\u001b[0;34m,\u001b[0m \u001b[0;34m**\u001b[0m\u001b[0mkwargs\u001b[0m\u001b[0;34m)\u001b[0m\u001b[0;34m\u001b[0m\u001b[0;34m\u001b[0m\u001b[0m\n",
            "\u001b[0;32m/usr/local/lib/python3.6/dist-packages/tensorflow/python/training/tracking/base.py\u001b[0m in \u001b[0;36m_method_wrapper\u001b[0;34m(self, *args, **kwargs)\u001b[0m\n\u001b[1;32m    455\u001b[0m     \u001b[0mself\u001b[0m\u001b[0;34m.\u001b[0m\u001b[0m_self_setattr_tracking\u001b[0m \u001b[0;34m=\u001b[0m \u001b[0;32mFalse\u001b[0m  \u001b[0;31m# pylint: disable=protected-access\u001b[0m\u001b[0;34m\u001b[0m\u001b[0;34m\u001b[0m\u001b[0m\n\u001b[1;32m    456\u001b[0m     \u001b[0;32mtry\u001b[0m\u001b[0;34m:\u001b[0m\u001b[0;34m\u001b[0m\u001b[0;34m\u001b[0m\u001b[0m\n\u001b[0;32m--> 457\u001b[0;31m       \u001b[0mresult\u001b[0m \u001b[0;34m=\u001b[0m \u001b[0mmethod\u001b[0m\u001b[0;34m(\u001b[0m\u001b[0mself\u001b[0m\u001b[0;34m,\u001b[0m \u001b[0;34m*\u001b[0m\u001b[0margs\u001b[0m\u001b[0;34m,\u001b[0m \u001b[0;34m**\u001b[0m\u001b[0mkwargs\u001b[0m\u001b[0;34m)\u001b[0m\u001b[0;34m\u001b[0m\u001b[0;34m\u001b[0m\u001b[0m\n\u001b[0m\u001b[1;32m    458\u001b[0m     \u001b[0;32mfinally\u001b[0m\u001b[0;34m:\u001b[0m\u001b[0;34m\u001b[0m\u001b[0;34m\u001b[0m\u001b[0m\n\u001b[1;32m    459\u001b[0m       \u001b[0mself\u001b[0m\u001b[0;34m.\u001b[0m\u001b[0m_self_setattr_tracking\u001b[0m \u001b[0;34m=\u001b[0m \u001b[0mprevious_value\u001b[0m  \u001b[0;31m# pylint: disable=protected-access\u001b[0m\u001b[0;34m\u001b[0m\u001b[0;34m\u001b[0m\u001b[0m\n",
            "\u001b[0;32m/usr/local/lib/python3.6/dist-packages/tensorflow/python/keras/engine/functional.py\u001b[0m in \u001b[0;36m__init__\u001b[0;34m(self, inputs, outputs, name, trainable)\u001b[0m\n\u001b[1;32m    113\u001b[0m     \u001b[0;31m#     'arguments during initialization. Got an unexpected argument:')\u001b[0m\u001b[0;34m\u001b[0m\u001b[0;34m\u001b[0m\u001b[0;34m\u001b[0m\u001b[0m\n\u001b[1;32m    114\u001b[0m     \u001b[0msuper\u001b[0m\u001b[0;34m(\u001b[0m\u001b[0mFunctional\u001b[0m\u001b[0;34m,\u001b[0m \u001b[0mself\u001b[0m\u001b[0;34m)\u001b[0m\u001b[0;34m.\u001b[0m\u001b[0m__init__\u001b[0m\u001b[0;34m(\u001b[0m\u001b[0mname\u001b[0m\u001b[0;34m=\u001b[0m\u001b[0mname\u001b[0m\u001b[0;34m,\u001b[0m \u001b[0mtrainable\u001b[0m\u001b[0;34m=\u001b[0m\u001b[0mtrainable\u001b[0m\u001b[0;34m)\u001b[0m\u001b[0;34m\u001b[0m\u001b[0;34m\u001b[0m\u001b[0m\n\u001b[0;32m--> 115\u001b[0;31m     \u001b[0mself\u001b[0m\u001b[0;34m.\u001b[0m\u001b[0m_init_graph_network\u001b[0m\u001b[0;34m(\u001b[0m\u001b[0minputs\u001b[0m\u001b[0;34m,\u001b[0m \u001b[0moutputs\u001b[0m\u001b[0;34m)\u001b[0m\u001b[0;34m\u001b[0m\u001b[0;34m\u001b[0m\u001b[0m\n\u001b[0m\u001b[1;32m    116\u001b[0m \u001b[0;34m\u001b[0m\u001b[0m\n\u001b[1;32m    117\u001b[0m   \u001b[0;34m@\u001b[0m\u001b[0mtrackable\u001b[0m\u001b[0;34m.\u001b[0m\u001b[0mno_automatic_dependency_tracking\u001b[0m\u001b[0;34m\u001b[0m\u001b[0;34m\u001b[0m\u001b[0m\n",
            "\u001b[0;32m/usr/local/lib/python3.6/dist-packages/tensorflow/python/training/tracking/base.py\u001b[0m in \u001b[0;36m_method_wrapper\u001b[0;34m(self, *args, **kwargs)\u001b[0m\n\u001b[1;32m    455\u001b[0m     \u001b[0mself\u001b[0m\u001b[0;34m.\u001b[0m\u001b[0m_self_setattr_tracking\u001b[0m \u001b[0;34m=\u001b[0m \u001b[0;32mFalse\u001b[0m  \u001b[0;31m# pylint: disable=protected-access\u001b[0m\u001b[0;34m\u001b[0m\u001b[0;34m\u001b[0m\u001b[0m\n\u001b[1;32m    456\u001b[0m     \u001b[0;32mtry\u001b[0m\u001b[0;34m:\u001b[0m\u001b[0;34m\u001b[0m\u001b[0;34m\u001b[0m\u001b[0m\n\u001b[0;32m--> 457\u001b[0;31m       \u001b[0mresult\u001b[0m \u001b[0;34m=\u001b[0m \u001b[0mmethod\u001b[0m\u001b[0;34m(\u001b[0m\u001b[0mself\u001b[0m\u001b[0;34m,\u001b[0m \u001b[0;34m*\u001b[0m\u001b[0margs\u001b[0m\u001b[0;34m,\u001b[0m \u001b[0;34m**\u001b[0m\u001b[0mkwargs\u001b[0m\u001b[0;34m)\u001b[0m\u001b[0;34m\u001b[0m\u001b[0;34m\u001b[0m\u001b[0m\n\u001b[0m\u001b[1;32m    458\u001b[0m     \u001b[0;32mfinally\u001b[0m\u001b[0;34m:\u001b[0m\u001b[0;34m\u001b[0m\u001b[0;34m\u001b[0m\u001b[0m\n\u001b[1;32m    459\u001b[0m       \u001b[0mself\u001b[0m\u001b[0;34m.\u001b[0m\u001b[0m_self_setattr_tracking\u001b[0m \u001b[0;34m=\u001b[0m \u001b[0mprevious_value\u001b[0m  \u001b[0;31m# pylint: disable=protected-access\u001b[0m\u001b[0;34m\u001b[0m\u001b[0;34m\u001b[0m\u001b[0m\n",
            "\u001b[0;32m/usr/local/lib/python3.6/dist-packages/tensorflow/python/keras/engine/functional.py\u001b[0m in \u001b[0;36m_init_graph_network\u001b[0;34m(self, inputs, outputs)\u001b[0m\n\u001b[1;32m    142\u001b[0m       \u001b[0mbase_layer_utils\u001b[0m\u001b[0;34m.\u001b[0m\u001b[0mcreate_keras_history\u001b[0m\u001b[0;34m(\u001b[0m\u001b[0mself\u001b[0m\u001b[0;34m.\u001b[0m\u001b[0m_nested_outputs\u001b[0m\u001b[0;34m)\u001b[0m\u001b[0;34m\u001b[0m\u001b[0;34m\u001b[0m\u001b[0m\n\u001b[1;32m    143\u001b[0m \u001b[0;34m\u001b[0m\u001b[0m\n\u001b[0;32m--> 144\u001b[0;31m     \u001b[0mself\u001b[0m\u001b[0;34m.\u001b[0m\u001b[0m_validate_graph_inputs_and_outputs\u001b[0m\u001b[0;34m(\u001b[0m\u001b[0;34m)\u001b[0m\u001b[0;34m\u001b[0m\u001b[0;34m\u001b[0m\u001b[0m\n\u001b[0m\u001b[1;32m    145\u001b[0m \u001b[0;34m\u001b[0m\u001b[0m\n\u001b[1;32m    146\u001b[0m     \u001b[0;31m# A Network does not create weights of its own, thus it is already\u001b[0m\u001b[0;34m\u001b[0m\u001b[0;34m\u001b[0m\u001b[0;34m\u001b[0m\u001b[0m\n",
            "\u001b[0;32m/usr/local/lib/python3.6/dist-packages/tensorflow/python/keras/engine/functional.py\u001b[0m in \u001b[0;36m_validate_graph_inputs_and_outputs\u001b[0;34m(self)\u001b[0m\n\u001b[1;32m    637\u001b[0m                          \u001b[0;34m'must come from `tf.keras.Input`. '\u001b[0m\u001b[0;34m\u001b[0m\u001b[0;34m\u001b[0m\u001b[0m\n\u001b[1;32m    638\u001b[0m                          \u001b[0;34m'Received: '\u001b[0m \u001b[0;34m+\u001b[0m \u001b[0mstr\u001b[0m\u001b[0;34m(\u001b[0m\u001b[0mx\u001b[0m\u001b[0;34m)\u001b[0m \u001b[0;34m+\u001b[0m\u001b[0;34m\u001b[0m\u001b[0;34m\u001b[0m\u001b[0m\n\u001b[0;32m--> 639\u001b[0;31m                          ' (missing previous layer metadata).')\n\u001b[0m\u001b[1;32m    640\u001b[0m       \u001b[0;31m# Check that x is an input tensor.\u001b[0m\u001b[0;34m\u001b[0m\u001b[0;34m\u001b[0m\u001b[0;34m\u001b[0m\u001b[0m\n\u001b[1;32m    641\u001b[0m       \u001b[0;31m# pylint: disable=protected-access\u001b[0m\u001b[0;34m\u001b[0m\u001b[0;34m\u001b[0m\u001b[0;34m\u001b[0m\u001b[0m\n",
            "\u001b[0;31mValueError\u001b[0m: Input tensors to a Functional must come from `tf.keras.Input`. Received: 0 (missing previous layer metadata)."
          ]
        }
      ]
    },
    {
      "cell_type": "code",
      "metadata": {
        "id": "sUEmCIImxLIG",
        "colab_type": "code",
        "colab": {}
      },
      "source": [
        "from tensorflow.python.keras.backend import eager_learning_phase_scope"
      ],
      "execution_count": null,
      "outputs": []
    },
    {
      "cell_type": "code",
      "metadata": {
        "id": "dDY5BPil11qM",
        "colab_type": "code",
        "colab": {}
      },
      "source": [
        "with eager_learning_phase_scope(value=0):\n",
        "    output_test = fn([x_test])"
      ],
      "execution_count": null,
      "outputs": []
    },
    {
      "cell_type": "code",
      "metadata": {
        "id": "VOJT41fV2q57",
        "colab_type": "code",
        "colab": {}
      },
      "source": [
        "output_test[0].shape"
      ],
      "execution_count": null,
      "outputs": []
    },
    {
      "cell_type": "code",
      "metadata": {
        "id": "bPxDI4gj5jC7",
        "colab_type": "code",
        "colab": {
          "base_uri": "https://localhost:8080/",
          "height": 323
        },
        "outputId": "bbd5c1d6-b122-47cd-8363-b78c6770f68f"
      },
      "source": [
        "k.function([model3.input , k.learning_phase_scope(0)],model3.output)"
      ],
      "execution_count": null,
      "outputs": [
        {
          "output_type": "error",
          "ename": "ValueError",
          "evalue": "ignored",
          "traceback": [
            "\u001b[0;31m---------------------------------------------------------------------------\u001b[0m",
            "\u001b[0;31mValueError\u001b[0m                                Traceback (most recent call last)",
            "\u001b[0;32m<ipython-input-13-b624497a0014>\u001b[0m in \u001b[0;36m<module>\u001b[0;34m()\u001b[0m\n\u001b[0;32m----> 1\u001b[0;31m \u001b[0mk\u001b[0m\u001b[0;34m.\u001b[0m\u001b[0mfunction\u001b[0m\u001b[0;34m(\u001b[0m\u001b[0;34m[\u001b[0m\u001b[0mmodel3\u001b[0m\u001b[0;34m.\u001b[0m\u001b[0minput\u001b[0m \u001b[0;34m,\u001b[0m \u001b[0mk\u001b[0m\u001b[0;34m.\u001b[0m\u001b[0mlearning_phase_scope\u001b[0m\u001b[0;34m(\u001b[0m\u001b[0;36m0\u001b[0m\u001b[0;34m)\u001b[0m\u001b[0;34m]\u001b[0m\u001b[0;34m,\u001b[0m\u001b[0mmodel3\u001b[0m\u001b[0;34m.\u001b[0m\u001b[0moutput\u001b[0m\u001b[0;34m)\u001b[0m\u001b[0;34m\u001b[0m\u001b[0;34m\u001b[0m\u001b[0m\n\u001b[0m",
            "\u001b[0;32m/usr/local/lib/python3.6/dist-packages/tensorflow/python/keras/backend.py\u001b[0m in \u001b[0;36mfunction\u001b[0;34m(inputs, outputs, updates, name, **kwargs)\u001b[0m\n\u001b[1;32m   3934\u001b[0m     \u001b[0;32mfrom\u001b[0m \u001b[0mtensorflow\u001b[0m\u001b[0;34m.\u001b[0m\u001b[0mpython\u001b[0m\u001b[0;34m.\u001b[0m\u001b[0mkeras\u001b[0m \u001b[0;32mimport\u001b[0m \u001b[0mmodels\u001b[0m  \u001b[0;31m# pylint: disable=g-import-not-at-top\u001b[0m\u001b[0;34m\u001b[0m\u001b[0;34m\u001b[0m\u001b[0m\n\u001b[1;32m   3935\u001b[0m     \u001b[0;32mfrom\u001b[0m \u001b[0mtensorflow\u001b[0m\u001b[0;34m.\u001b[0m\u001b[0mpython\u001b[0m\u001b[0;34m.\u001b[0m\u001b[0mkeras\u001b[0m\u001b[0;34m.\u001b[0m\u001b[0mutils\u001b[0m \u001b[0;32mimport\u001b[0m \u001b[0mtf_utils\u001b[0m  \u001b[0;31m# pylint: disable=g-import-not-at-top\u001b[0m\u001b[0;34m\u001b[0m\u001b[0;34m\u001b[0m\u001b[0m\n\u001b[0;32m-> 3936\u001b[0;31m     \u001b[0mmodel\u001b[0m \u001b[0;34m=\u001b[0m \u001b[0mmodels\u001b[0m\u001b[0;34m.\u001b[0m\u001b[0mModel\u001b[0m\u001b[0;34m(\u001b[0m\u001b[0minputs\u001b[0m\u001b[0;34m=\u001b[0m\u001b[0minputs\u001b[0m\u001b[0;34m,\u001b[0m \u001b[0moutputs\u001b[0m\u001b[0;34m=\u001b[0m\u001b[0moutputs\u001b[0m\u001b[0;34m)\u001b[0m\u001b[0;34m\u001b[0m\u001b[0;34m\u001b[0m\u001b[0m\n\u001b[0m\u001b[1;32m   3937\u001b[0m \u001b[0;34m\u001b[0m\u001b[0m\n\u001b[1;32m   3938\u001b[0m     \u001b[0mwrap_outputs\u001b[0m \u001b[0;34m=\u001b[0m \u001b[0misinstance\u001b[0m\u001b[0;34m(\u001b[0m\u001b[0moutputs\u001b[0m\u001b[0;34m,\u001b[0m \u001b[0mlist\u001b[0m\u001b[0;34m)\u001b[0m \u001b[0;32mand\u001b[0m \u001b[0mlen\u001b[0m\u001b[0;34m(\u001b[0m\u001b[0moutputs\u001b[0m\u001b[0;34m)\u001b[0m \u001b[0;34m==\u001b[0m \u001b[0;36m1\u001b[0m\u001b[0;34m\u001b[0m\u001b[0;34m\u001b[0m\u001b[0m\n",
            "\u001b[0;32m/usr/local/lib/python3.6/dist-packages/tensorflow/python/keras/engine/training.py\u001b[0m in \u001b[0;36m__new__\u001b[0;34m(cls, *args, **kwargs)\u001b[0m\n\u001b[1;32m    240\u001b[0m       \u001b[0;31m# Functional model\u001b[0m\u001b[0;34m\u001b[0m\u001b[0;34m\u001b[0m\u001b[0;34m\u001b[0m\u001b[0m\n\u001b[1;32m    241\u001b[0m       \u001b[0;32mfrom\u001b[0m \u001b[0mtensorflow\u001b[0m\u001b[0;34m.\u001b[0m\u001b[0mpython\u001b[0m\u001b[0;34m.\u001b[0m\u001b[0mkeras\u001b[0m\u001b[0;34m.\u001b[0m\u001b[0mengine\u001b[0m \u001b[0;32mimport\u001b[0m \u001b[0mfunctional\u001b[0m  \u001b[0;31m# pylint: disable=g-import-not-at-top\u001b[0m\u001b[0;34m\u001b[0m\u001b[0;34m\u001b[0m\u001b[0m\n\u001b[0;32m--> 242\u001b[0;31m       \u001b[0;32mreturn\u001b[0m \u001b[0mfunctional\u001b[0m\u001b[0;34m.\u001b[0m\u001b[0mFunctional\u001b[0m\u001b[0;34m(\u001b[0m\u001b[0;34m*\u001b[0m\u001b[0margs\u001b[0m\u001b[0;34m,\u001b[0m \u001b[0;34m**\u001b[0m\u001b[0mkwargs\u001b[0m\u001b[0;34m)\u001b[0m\u001b[0;34m\u001b[0m\u001b[0;34m\u001b[0m\u001b[0m\n\u001b[0m\u001b[1;32m    243\u001b[0m     \u001b[0;32melse\u001b[0m\u001b[0;34m:\u001b[0m\u001b[0;34m\u001b[0m\u001b[0;34m\u001b[0m\u001b[0m\n\u001b[1;32m    244\u001b[0m       \u001b[0;32mreturn\u001b[0m \u001b[0msuper\u001b[0m\u001b[0;34m(\u001b[0m\u001b[0mModel\u001b[0m\u001b[0;34m,\u001b[0m \u001b[0mcls\u001b[0m\u001b[0;34m)\u001b[0m\u001b[0;34m.\u001b[0m\u001b[0m__new__\u001b[0m\u001b[0;34m(\u001b[0m\u001b[0mcls\u001b[0m\u001b[0;34m,\u001b[0m \u001b[0;34m*\u001b[0m\u001b[0margs\u001b[0m\u001b[0;34m,\u001b[0m \u001b[0;34m**\u001b[0m\u001b[0mkwargs\u001b[0m\u001b[0;34m)\u001b[0m\u001b[0;34m\u001b[0m\u001b[0;34m\u001b[0m\u001b[0m\n",
            "\u001b[0;32m/usr/local/lib/python3.6/dist-packages/tensorflow/python/training/tracking/base.py\u001b[0m in \u001b[0;36m_method_wrapper\u001b[0;34m(self, *args, **kwargs)\u001b[0m\n\u001b[1;32m    455\u001b[0m     \u001b[0mself\u001b[0m\u001b[0;34m.\u001b[0m\u001b[0m_self_setattr_tracking\u001b[0m \u001b[0;34m=\u001b[0m \u001b[0;32mFalse\u001b[0m  \u001b[0;31m# pylint: disable=protected-access\u001b[0m\u001b[0;34m\u001b[0m\u001b[0;34m\u001b[0m\u001b[0m\n\u001b[1;32m    456\u001b[0m     \u001b[0;32mtry\u001b[0m\u001b[0;34m:\u001b[0m\u001b[0;34m\u001b[0m\u001b[0;34m\u001b[0m\u001b[0m\n\u001b[0;32m--> 457\u001b[0;31m       \u001b[0mresult\u001b[0m \u001b[0;34m=\u001b[0m \u001b[0mmethod\u001b[0m\u001b[0;34m(\u001b[0m\u001b[0mself\u001b[0m\u001b[0;34m,\u001b[0m \u001b[0;34m*\u001b[0m\u001b[0margs\u001b[0m\u001b[0;34m,\u001b[0m \u001b[0;34m**\u001b[0m\u001b[0mkwargs\u001b[0m\u001b[0;34m)\u001b[0m\u001b[0;34m\u001b[0m\u001b[0;34m\u001b[0m\u001b[0m\n\u001b[0m\u001b[1;32m    458\u001b[0m     \u001b[0;32mfinally\u001b[0m\u001b[0;34m:\u001b[0m\u001b[0;34m\u001b[0m\u001b[0;34m\u001b[0m\u001b[0m\n\u001b[1;32m    459\u001b[0m       \u001b[0mself\u001b[0m\u001b[0;34m.\u001b[0m\u001b[0m_self_setattr_tracking\u001b[0m \u001b[0;34m=\u001b[0m \u001b[0mprevious_value\u001b[0m  \u001b[0;31m# pylint: disable=protected-access\u001b[0m\u001b[0;34m\u001b[0m\u001b[0;34m\u001b[0m\u001b[0m\n",
            "\u001b[0;32m/usr/local/lib/python3.6/dist-packages/tensorflow/python/keras/engine/functional.py\u001b[0m in \u001b[0;36m__init__\u001b[0;34m(self, inputs, outputs, name, trainable)\u001b[0m\n\u001b[1;32m    113\u001b[0m     \u001b[0;31m#     'arguments during initialization. Got an unexpected argument:')\u001b[0m\u001b[0;34m\u001b[0m\u001b[0;34m\u001b[0m\u001b[0;34m\u001b[0m\u001b[0m\n\u001b[1;32m    114\u001b[0m     \u001b[0msuper\u001b[0m\u001b[0;34m(\u001b[0m\u001b[0mFunctional\u001b[0m\u001b[0;34m,\u001b[0m \u001b[0mself\u001b[0m\u001b[0;34m)\u001b[0m\u001b[0;34m.\u001b[0m\u001b[0m__init__\u001b[0m\u001b[0;34m(\u001b[0m\u001b[0mname\u001b[0m\u001b[0;34m=\u001b[0m\u001b[0mname\u001b[0m\u001b[0;34m,\u001b[0m \u001b[0mtrainable\u001b[0m\u001b[0;34m=\u001b[0m\u001b[0mtrainable\u001b[0m\u001b[0;34m)\u001b[0m\u001b[0;34m\u001b[0m\u001b[0;34m\u001b[0m\u001b[0m\n\u001b[0;32m--> 115\u001b[0;31m     \u001b[0mself\u001b[0m\u001b[0;34m.\u001b[0m\u001b[0m_init_graph_network\u001b[0m\u001b[0;34m(\u001b[0m\u001b[0minputs\u001b[0m\u001b[0;34m,\u001b[0m \u001b[0moutputs\u001b[0m\u001b[0;34m)\u001b[0m\u001b[0;34m\u001b[0m\u001b[0;34m\u001b[0m\u001b[0m\n\u001b[0m\u001b[1;32m    116\u001b[0m \u001b[0;34m\u001b[0m\u001b[0m\n\u001b[1;32m    117\u001b[0m   \u001b[0;34m@\u001b[0m\u001b[0mtrackable\u001b[0m\u001b[0;34m.\u001b[0m\u001b[0mno_automatic_dependency_tracking\u001b[0m\u001b[0;34m\u001b[0m\u001b[0;34m\u001b[0m\u001b[0m\n",
            "\u001b[0;32m/usr/local/lib/python3.6/dist-packages/tensorflow/python/training/tracking/base.py\u001b[0m in \u001b[0;36m_method_wrapper\u001b[0;34m(self, *args, **kwargs)\u001b[0m\n\u001b[1;32m    455\u001b[0m     \u001b[0mself\u001b[0m\u001b[0;34m.\u001b[0m\u001b[0m_self_setattr_tracking\u001b[0m \u001b[0;34m=\u001b[0m \u001b[0;32mFalse\u001b[0m  \u001b[0;31m# pylint: disable=protected-access\u001b[0m\u001b[0;34m\u001b[0m\u001b[0;34m\u001b[0m\u001b[0m\n\u001b[1;32m    456\u001b[0m     \u001b[0;32mtry\u001b[0m\u001b[0;34m:\u001b[0m\u001b[0;34m\u001b[0m\u001b[0;34m\u001b[0m\u001b[0m\n\u001b[0;32m--> 457\u001b[0;31m       \u001b[0mresult\u001b[0m \u001b[0;34m=\u001b[0m \u001b[0mmethod\u001b[0m\u001b[0;34m(\u001b[0m\u001b[0mself\u001b[0m\u001b[0;34m,\u001b[0m \u001b[0;34m*\u001b[0m\u001b[0margs\u001b[0m\u001b[0;34m,\u001b[0m \u001b[0;34m**\u001b[0m\u001b[0mkwargs\u001b[0m\u001b[0;34m)\u001b[0m\u001b[0;34m\u001b[0m\u001b[0;34m\u001b[0m\u001b[0m\n\u001b[0m\u001b[1;32m    458\u001b[0m     \u001b[0;32mfinally\u001b[0m\u001b[0;34m:\u001b[0m\u001b[0;34m\u001b[0m\u001b[0;34m\u001b[0m\u001b[0m\n\u001b[1;32m    459\u001b[0m       \u001b[0mself\u001b[0m\u001b[0;34m.\u001b[0m\u001b[0m_self_setattr_tracking\u001b[0m \u001b[0;34m=\u001b[0m \u001b[0mprevious_value\u001b[0m  \u001b[0;31m# pylint: disable=protected-access\u001b[0m\u001b[0;34m\u001b[0m\u001b[0;34m\u001b[0m\u001b[0m\n",
            "\u001b[0;32m/usr/local/lib/python3.6/dist-packages/tensorflow/python/keras/engine/functional.py\u001b[0m in \u001b[0;36m_init_graph_network\u001b[0;34m(self, inputs, outputs)\u001b[0m\n\u001b[1;32m    142\u001b[0m       \u001b[0mbase_layer_utils\u001b[0m\u001b[0;34m.\u001b[0m\u001b[0mcreate_keras_history\u001b[0m\u001b[0;34m(\u001b[0m\u001b[0mself\u001b[0m\u001b[0;34m.\u001b[0m\u001b[0m_nested_outputs\u001b[0m\u001b[0;34m)\u001b[0m\u001b[0;34m\u001b[0m\u001b[0;34m\u001b[0m\u001b[0m\n\u001b[1;32m    143\u001b[0m \u001b[0;34m\u001b[0m\u001b[0m\n\u001b[0;32m--> 144\u001b[0;31m     \u001b[0mself\u001b[0m\u001b[0;34m.\u001b[0m\u001b[0m_validate_graph_inputs_and_outputs\u001b[0m\u001b[0;34m(\u001b[0m\u001b[0;34m)\u001b[0m\u001b[0;34m\u001b[0m\u001b[0;34m\u001b[0m\u001b[0m\n\u001b[0m\u001b[1;32m    145\u001b[0m \u001b[0;34m\u001b[0m\u001b[0m\n\u001b[1;32m    146\u001b[0m     \u001b[0;31m# A Network does not create weights of its own, thus it is already\u001b[0m\u001b[0;34m\u001b[0m\u001b[0;34m\u001b[0m\u001b[0;34m\u001b[0m\u001b[0m\n",
            "\u001b[0;32m/usr/local/lib/python3.6/dist-packages/tensorflow/python/keras/engine/functional.py\u001b[0m in \u001b[0;36m_validate_graph_inputs_and_outputs\u001b[0;34m(self)\u001b[0m\n\u001b[1;32m    637\u001b[0m                          \u001b[0;34m'must come from `tf.keras.Input`. '\u001b[0m\u001b[0;34m\u001b[0m\u001b[0;34m\u001b[0m\u001b[0m\n\u001b[1;32m    638\u001b[0m                          \u001b[0;34m'Received: '\u001b[0m \u001b[0;34m+\u001b[0m \u001b[0mstr\u001b[0m\u001b[0;34m(\u001b[0m\u001b[0mx\u001b[0m\u001b[0;34m)\u001b[0m \u001b[0;34m+\u001b[0m\u001b[0;34m\u001b[0m\u001b[0;34m\u001b[0m\u001b[0m\n\u001b[0;32m--> 639\u001b[0;31m                          ' (missing previous layer metadata).')\n\u001b[0m\u001b[1;32m    640\u001b[0m       \u001b[0;31m# Check that x is an input tensor.\u001b[0m\u001b[0;34m\u001b[0m\u001b[0;34m\u001b[0m\u001b[0;34m\u001b[0m\u001b[0m\n\u001b[1;32m    641\u001b[0m       \u001b[0;31m# pylint: disable=protected-access\u001b[0m\u001b[0;34m\u001b[0m\u001b[0;34m\u001b[0m\u001b[0;34m\u001b[0m\u001b[0m\n",
            "\u001b[0;31mValueError\u001b[0m: Input tensors to a Functional must come from `tf.keras.Input`. Received: <contextlib._GeneratorContextManager object at 0x7eff3e7d1e80> (missing previous layer metadata)."
          ]
        }
      ]
    },
    {
      "cell_type": "code",
      "metadata": {
        "id": "m03H2gpB2cMJ",
        "colab_type": "code",
        "colab": {}
      },
      "source": [
        "with eager_learning_phase_scope(value=1):\n",
        "    output_train = fn([x_train])"
      ],
      "execution_count": null,
      "outputs": []
    },
    {
      "cell_type": "code",
      "metadata": {
        "id": "CxcNkH0oyNFg",
        "colab_type": "code",
        "colab": {}
      },
      "source": [
        "output_train = model3([x_train], training=True) \n",
        "output_test= model3([x_train], training=False)"
      ],
      "execution_count": null,
      "outputs": []
    },
    {
      "cell_type": "code",
      "metadata": {
        "id": "WbpyLX4FtAqz",
        "colab_type": "code",
        "colab": {}
      },
      "source": [
        "names=['linear', 'poly', 'rbf', 'sigmoid',]\n",
        "scores=[]\n",
        "for i in names: \n",
        "  clf=SVC(kernel=i,gamma='auto',probability=True,C=1)\n",
        "  prediction = clf.fit(xtrainnew,y_trainnew).predict_proba(xtestnew)\n",
        "  prediction=np.argmax(prediction,axis=1)\n",
        "  scores.append(f1_score(prediction,y_testnew,average='micro'))\n",
        "\n",
        "finalscores.append(np.max(scores))"
      ],
      "execution_count": null,
      "outputs": []
    },
    {
      "cell_type": "code",
      "metadata": {
        "id": "hdOb3IRqtCoy",
        "colab_type": "code",
        "colab": {}
      },
      "source": [
        "names=['gini','entropy']\n",
        "scores=[]\n",
        "for i in names:\n",
        "  for j in np.arange(1,41):\n",
        "    decisiontree = DecisionTreeClassifier(criterion=i,random_state=0, max_depth=j) \n",
        "    prediction = decisiontree.fit(xtrainnew,y_trainnew).predict_proba(xtestnew)\n",
        "    prediction=np.argmax(prediction,axis=1)\n",
        "    scores.append(f1_score(prediction,y_testnew,average='micro'))\n",
        "finalscores.append(np.max(scores))\n"
      ],
      "execution_count": null,
      "outputs": []
    },
    {
      "cell_type": "code",
      "metadata": {
        "id": "G3oHOIb8tDiq",
        "colab_type": "code",
        "colab": {}
      },
      "source": [
        "names=['newton-cg', 'sag', 'saga' , 'lbfgs']\n",
        "scores=[]\n",
        "for i in names:\n",
        "  clf=LogisticRegression(solver=i,class_weight='balanced', max_iter=1000)\n",
        "  prediction = clf.fit(xtrainnew,y_trainnew).predict_proba(xtestnew)\n",
        "  prediction=np.argmax(prediction,axis=1)\n",
        "  scores.append(f1_score(prediction,y_testnew,average='micro'))\n",
        "\n",
        "finalscores.append(np.max(scores))"
      ],
      "execution_count": null,
      "outputs": []
    },
    {
      "cell_type": "code",
      "metadata": {
        "id": "A2vywF4NtGoS",
        "colab_type": "code",
        "colab": {}
      },
      "source": [
        "algorithm=['ball_tree', 'kd_tree', 'brute']\n",
        "scores=[]\n",
        "for i in algorithm:\n",
        "  for j in np.arange(1,50):\n",
        "    clf = KNeighborsClassifier(j, p=2,metric='minkowski',algorithm=i)\n",
        "    prediction = clf.fit(xtrainnew,y_trainnew).predict_proba(xtestnew)\n",
        "    prediction =np.argmax(prediction,axis=1)\n",
        "    scores.append(f1_score(prediction,y_testnew,average='micro'))\n",
        "finalscores.append(np.max(scores))\n"
      ],
      "execution_count": null,
      "outputs": []
    },
    {
      "cell_type": "code",
      "metadata": {
        "id": "PpwdKj8VipRU",
        "colab_type": "code",
        "colab": {
          "base_uri": "https://localhost:8080/",
          "height": 34
        },
        "outputId": "8c809412-5a77-4c2c-f50e-0b71d77fdf6a"
      },
      "source": [
        "finalscores"
      ],
      "execution_count": null,
      "outputs": [
        {
          "output_type": "execute_result",
          "data": {
            "text/plain": [
              "[1.0, 1.0, 0.974, 0.998, 0.98]"
            ]
          },
          "metadata": {
            "tags": []
          },
          "execution_count": 12
        }
      ]
    },
    {
      "cell_type": "code",
      "metadata": {
        "id": "1131StyrtHFT",
        "colab_type": "code",
        "colab": {
          "base_uri": "https://localhost:8080/",
          "height": 238
        },
        "outputId": "2ee8d4c1-0220-4c2b-9ece-b63f4939f13a"
      },
      "source": [
        "from tabulate import tabulate\n",
        "table = [[\"FC\", finalscores[0]*100], [\"svm\", finalscores[1]*100], [\"DT\", finalscores[2]*100], [\"LR\", finalscores[3]*100], [\"KN\", finalscores[4]*100]]\n",
        "headers = [\"dataseta\",\"DenseNet201\"]\n",
        "print(tabulate(table, headers,tablefmt='grid'))\n",
        "finalscores=np.array(finalscores)\n",
        "np.save('finalscores_dataset[A]',finalscores)\n",
        "!cp finalscores_dataset[A].npy \"/content/drive/My Drive/result/modela\"\n",
        "\n"
      ],
      "execution_count": null,
      "outputs": [
        {
          "output_type": "stream",
          "text": [
            "+------------+---------------+\n",
            "| dataseta   |   DenseNet201 |\n",
            "+============+===============+\n",
            "| FC         |         100   |\n",
            "+------------+---------------+\n",
            "| svm        |         100   |\n",
            "+------------+---------------+\n",
            "| DT         |          97.4 |\n",
            "+------------+---------------+\n",
            "| LR         |          99.8 |\n",
            "+------------+---------------+\n",
            "| KN         |          98   |\n",
            "+------------+---------------+\n"
          ],
          "name": "stdout"
        }
      ]
    },
    {
      "cell_type": "markdown",
      "metadata": {
        "id": "tpjPcGhmufSt",
        "colab_type": "text"
      },
      "source": [
        "MODEL A DATA SET B"
      ]
    },
    {
      "cell_type": "code",
      "metadata": {
        "id": "xE1Q77UvuicU",
        "colab_type": "code",
        "colab": {}
      },
      "source": [
        "x_train=np.load('/content/drive/My Drive/datasets/datasetb/xtrain.npy')\n",
        "y_train=np.load('/content/drive/My Drive/datasets/dataseta/ytrain.npy')\n",
        "x_test=np.load('/content/drive/My Drive/datasets/datasetb/xtest.npy')\n",
        "y_test=np.load('/content/drive/My Drive/datasets/dataseta/ytest.npy')"
      ],
      "execution_count": null,
      "outputs": []
    },
    {
      "cell_type": "code",
      "metadata": {
        "id": "WnWn2GgktIol",
        "colab_type": "code",
        "colab": {}
      },
      "source": [
        "finalscores=[]"
      ],
      "execution_count": null,
      "outputs": []
    },
    {
      "cell_type": "code",
      "metadata": {
        "id": "eCK_2IXbuo9M",
        "colab_type": "code",
        "colab": {}
      },
      "source": [
        "model =DenseNet201(include_top=False,weights='imagenet',input_shape=(224,224,3))\n",
        "x = model.output\n",
        "x=tf.keras.layers.GlobalAveragePooling2D()(x)\n",
        "x=tf.keras.layers.Dense(1024,activation='relu')(x)\n",
        "x=tf.keras.layers.Dense(512,activation='relu')(x)\n",
        "x=tf.keras.layers.Dense(10,activation='softmax')(x)\n",
        "model2 = tf.keras.models.Model(inputs=model.input, outputs=x)\n",
        "for layer in model2.layers[:-3]:\n",
        "  layer.trainable = False\n",
        "model2.summary()\n",
        "model2.compile(optimizer='Adam',loss='categorical_crossentropy',metrics=['accuracy'])\n",
        "class myCallback(tf.keras.callbacks.Callback):\n",
        "  def on_epoch_end(self, epoch, logs={}):\n",
        "    if(logs.get('accuracy') == 1):\n",
        "      if(logs.get('val_accuracy') == 1):\n",
        "        self.model.stop_training = True\n",
        "callbacks = [myCallback()]\n",
        "history=model2.fit(x_train,y_train,batch_size=128,epochs=20,validation_data=(x_test,y_test),shuffle=True,callbacks=callbacks)\n",
        "q=model2.predict(x_test)\n",
        "yhat=np.argmax(q,axis=1)\n",
        "y=np.argmax(y_test,axis=1)\n",
        "plt.plot(history.history['accuracy'],marker='+',c='red')\n",
        "plt.plot(history.history['loss'],marker='+',c='blue')\n",
        "plt.plot(history.history['val_accuracy'],marker='+',c='green')\n",
        "plt.plot(history.history['val_loss'],marker='+',c='orange')\n",
        "plt.legend(['acc','loss','val_acc','val_loss'])\n",
        "plt.show()\n",
        "scores=f1_score(yhat,y,average='micro')\n",
        "finalscores.append(scores)"
      ],
      "execution_count": null,
      "outputs": []
    },
    {
      "cell_type": "code",
      "metadata": {
        "id": "aZEud9EfurIl",
        "colab_type": "code",
        "colab": {}
      },
      "source": [
        "model =DenseNet201(include_top=False,weights='imagenet',input_shape=(224,224,3))\n",
        "x = model.output\n",
        "x=tf.keras.layers.GlobalAveragePooling2D()(x)\n",
        "model3 = tf.keras.models.Model(inputs=model.input, outputs=x)\n",
        "for layer in model3.layers[:]:\n",
        "  layer.trainable = False\n",
        "model3.summary()"
      ],
      "execution_count": null,
      "outputs": []
    },
    {
      "cell_type": "code",
      "metadata": {
        "id": "EHvnewBhut30",
        "colab_type": "code",
        "colab": {}
      },
      "source": [
        "y_trainnew=np.argmax(y_train,axis=1)\n",
        "xtrainnew=model3.predict(x_train)\n",
        "y_testnew=np.argmax(y_test,axis=1)\n",
        "xtestnew=model3.predict(x_test)"
      ],
      "execution_count": null,
      "outputs": []
    },
    {
      "cell_type": "code",
      "metadata": {
        "id": "dPSTgWCFaFar",
        "colab_type": "code",
        "colab": {}
      },
      "source": [
        "names=['linear', 'poly', 'rbf', 'sigmoid',]\n",
        "scores=[]\n",
        "for i in names: \n",
        "  clf=SVC(kernel=i,gamma='auto',probability=True,C=1)\n",
        "  prediction = clf.fit(xtrainnew,y_trainnew).predict_proba(xtestnew)\n",
        "  prediction=np.argmax(prediction,axis=1)\n",
        "  scores.append(f1_score(prediction,y_testnew,average='micro'))\n",
        "\n",
        "finalscores.append(np.max(scores))"
      ],
      "execution_count": null,
      "outputs": []
    },
    {
      "cell_type": "code",
      "metadata": {
        "id": "Z7SPwsINuwBS",
        "colab_type": "code",
        "colab": {
          "base_uri": "https://localhost:8080/",
          "height": 391
        },
        "outputId": "4b6369c4-c3fa-484e-c358-fe984e6cd76f"
      },
      "source": [
        "names=['gini','entropy']\n",
        "scores=[]\n",
        "for i in names:\n",
        "  for j in np.arange(1,41):\n",
        "    decisiontree = DecisionTreeClassifier(criterion=i,random_state=0, max_depth=j) \n",
        "    prediction = decisiontree.fit(xtrainnew,y_trainnew).predict_proba(xtestnew)\n",
        "    prediction=np.argmax(prediction,axis=1)\n",
        "    scores.append(f1_score(prediction,y_testnew,average='micro'))\n",
        "finalscores.append(np.max(scores))"
      ],
      "execution_count": null,
      "outputs": [
        {
          "output_type": "error",
          "ename": "KeyboardInterrupt",
          "evalue": "ignored",
          "traceback": [
            "\u001b[0;31m---------------------------------------------------------------------------\u001b[0m",
            "\u001b[0;31mKeyboardInterrupt\u001b[0m                         Traceback (most recent call last)",
            "\u001b[0;32m<ipython-input-25-9ad9aa627a5e>\u001b[0m in \u001b[0;36m<module>\u001b[0;34m()\u001b[0m\n\u001b[1;32m      4\u001b[0m   \u001b[0;32mfor\u001b[0m \u001b[0mj\u001b[0m \u001b[0;32min\u001b[0m \u001b[0mnp\u001b[0m\u001b[0;34m.\u001b[0m\u001b[0marange\u001b[0m\u001b[0;34m(\u001b[0m\u001b[0;36m1\u001b[0m\u001b[0;34m,\u001b[0m\u001b[0;36m41\u001b[0m\u001b[0;34m)\u001b[0m\u001b[0;34m:\u001b[0m\u001b[0;34m\u001b[0m\u001b[0;34m\u001b[0m\u001b[0m\n\u001b[1;32m      5\u001b[0m     \u001b[0mdecisiontree\u001b[0m \u001b[0;34m=\u001b[0m \u001b[0mDecisionTreeClassifier\u001b[0m\u001b[0;34m(\u001b[0m\u001b[0mcriterion\u001b[0m\u001b[0;34m=\u001b[0m\u001b[0mi\u001b[0m\u001b[0;34m,\u001b[0m\u001b[0mrandom_state\u001b[0m\u001b[0;34m=\u001b[0m\u001b[0;36m0\u001b[0m\u001b[0;34m,\u001b[0m \u001b[0mmax_depth\u001b[0m\u001b[0;34m=\u001b[0m\u001b[0mj\u001b[0m\u001b[0;34m)\u001b[0m\u001b[0;34m\u001b[0m\u001b[0;34m\u001b[0m\u001b[0m\n\u001b[0;32m----> 6\u001b[0;31m     \u001b[0mprediction\u001b[0m \u001b[0;34m=\u001b[0m \u001b[0mdecisiontree\u001b[0m\u001b[0;34m.\u001b[0m\u001b[0mfit\u001b[0m\u001b[0;34m(\u001b[0m\u001b[0mxtrainnew\u001b[0m\u001b[0;34m,\u001b[0m\u001b[0my_trainnew\u001b[0m\u001b[0;34m)\u001b[0m\u001b[0;34m.\u001b[0m\u001b[0mpredict_proba\u001b[0m\u001b[0;34m(\u001b[0m\u001b[0mxtestnew\u001b[0m\u001b[0;34m)\u001b[0m\u001b[0;34m\u001b[0m\u001b[0;34m\u001b[0m\u001b[0m\n\u001b[0m\u001b[1;32m      7\u001b[0m     \u001b[0mprediction\u001b[0m\u001b[0;34m=\u001b[0m\u001b[0mnp\u001b[0m\u001b[0;34m.\u001b[0m\u001b[0margmax\u001b[0m\u001b[0;34m(\u001b[0m\u001b[0mprediction\u001b[0m\u001b[0;34m,\u001b[0m\u001b[0maxis\u001b[0m\u001b[0;34m=\u001b[0m\u001b[0;36m1\u001b[0m\u001b[0;34m)\u001b[0m\u001b[0;34m\u001b[0m\u001b[0;34m\u001b[0m\u001b[0m\n\u001b[1;32m      8\u001b[0m     \u001b[0mscores\u001b[0m\u001b[0;34m.\u001b[0m\u001b[0mappend\u001b[0m\u001b[0;34m(\u001b[0m\u001b[0mf1_score\u001b[0m\u001b[0;34m(\u001b[0m\u001b[0mprediction\u001b[0m\u001b[0;34m,\u001b[0m\u001b[0my_testnew\u001b[0m\u001b[0;34m,\u001b[0m\u001b[0maverage\u001b[0m\u001b[0;34m=\u001b[0m\u001b[0;34m'micro'\u001b[0m\u001b[0;34m)\u001b[0m\u001b[0;34m)\u001b[0m\u001b[0;34m\u001b[0m\u001b[0;34m\u001b[0m\u001b[0m\n",
            "\u001b[0;32m/usr/local/lib/python3.6/dist-packages/sklearn/tree/_classes.py\u001b[0m in \u001b[0;36mfit\u001b[0;34m(self, X, y, sample_weight, check_input, X_idx_sorted)\u001b[0m\n\u001b[1;32m    875\u001b[0m             \u001b[0msample_weight\u001b[0m\u001b[0;34m=\u001b[0m\u001b[0msample_weight\u001b[0m\u001b[0;34m,\u001b[0m\u001b[0;34m\u001b[0m\u001b[0;34m\u001b[0m\u001b[0m\n\u001b[1;32m    876\u001b[0m             \u001b[0mcheck_input\u001b[0m\u001b[0;34m=\u001b[0m\u001b[0mcheck_input\u001b[0m\u001b[0;34m,\u001b[0m\u001b[0;34m\u001b[0m\u001b[0;34m\u001b[0m\u001b[0m\n\u001b[0;32m--> 877\u001b[0;31m             X_idx_sorted=X_idx_sorted)\n\u001b[0m\u001b[1;32m    878\u001b[0m         \u001b[0;32mreturn\u001b[0m \u001b[0mself\u001b[0m\u001b[0;34m\u001b[0m\u001b[0;34m\u001b[0m\u001b[0m\n\u001b[1;32m    879\u001b[0m \u001b[0;34m\u001b[0m\u001b[0m\n",
            "\u001b[0;32m/usr/local/lib/python3.6/dist-packages/sklearn/tree/_classes.py\u001b[0m in \u001b[0;36mfit\u001b[0;34m(self, X, y, sample_weight, check_input, X_idx_sorted)\u001b[0m\n\u001b[1;32m    365\u001b[0m                                            min_impurity_split)\n\u001b[1;32m    366\u001b[0m \u001b[0;34m\u001b[0m\u001b[0m\n\u001b[0;32m--> 367\u001b[0;31m         \u001b[0mbuilder\u001b[0m\u001b[0;34m.\u001b[0m\u001b[0mbuild\u001b[0m\u001b[0;34m(\u001b[0m\u001b[0mself\u001b[0m\u001b[0;34m.\u001b[0m\u001b[0mtree_\u001b[0m\u001b[0;34m,\u001b[0m \u001b[0mX\u001b[0m\u001b[0;34m,\u001b[0m \u001b[0my\u001b[0m\u001b[0;34m,\u001b[0m \u001b[0msample_weight\u001b[0m\u001b[0;34m,\u001b[0m \u001b[0mX_idx_sorted\u001b[0m\u001b[0;34m)\u001b[0m\u001b[0;34m\u001b[0m\u001b[0;34m\u001b[0m\u001b[0m\n\u001b[0m\u001b[1;32m    368\u001b[0m \u001b[0;34m\u001b[0m\u001b[0m\n\u001b[1;32m    369\u001b[0m         \u001b[0;32mif\u001b[0m \u001b[0mself\u001b[0m\u001b[0;34m.\u001b[0m\u001b[0mn_outputs_\u001b[0m \u001b[0;34m==\u001b[0m \u001b[0;36m1\u001b[0m \u001b[0;32mand\u001b[0m \u001b[0mis_classifier\u001b[0m\u001b[0;34m(\u001b[0m\u001b[0mself\u001b[0m\u001b[0;34m)\u001b[0m\u001b[0;34m:\u001b[0m\u001b[0;34m\u001b[0m\u001b[0;34m\u001b[0m\u001b[0m\n",
            "\u001b[0;31mKeyboardInterrupt\u001b[0m: "
          ]
        }
      ]
    },
    {
      "cell_type": "code",
      "metadata": {
        "id": "un8ecCCYuzU-",
        "colab_type": "code",
        "colab": {}
      },
      "source": [
        "names=['newton-cg', 'sag', 'saga' , 'lbfgs']\n",
        "scores=[]\n",
        "for i in names:\n",
        "  clf=LogisticRegression(solver=i,class_weight='balanced', max_iter=1000)\n",
        "  prediction = clf.fit(xtrainnew,y_trainnew).predict_proba(xtestnew)\n",
        "  prediction=np.argmax(prediction,axis=1)\n",
        "  scores.append(f1_score(prediction,y_testnew,average='micro'))\n",
        "\n",
        "finalscores.append(np.max(scores))"
      ],
      "execution_count": null,
      "outputs": []
    },
    {
      "cell_type": "code",
      "metadata": {
        "id": "iBnnjIo3u1d-",
        "colab_type": "code",
        "colab": {}
      },
      "source": [
        "algorithm=['ball_tree', 'kd_tree', 'brute']\n",
        "scores=[]\n",
        "for i in algorithm:\n",
        "  for j in np.arange(1,50):\n",
        "    clf = KNeighborsClassifier(j, p=2,metric='minkowski',algorithm=i)\n",
        "    prediction = clf.fit(xtrainnew,y_trainnew).predict_proba(xtestnew)\n",
        "    prediction =np.argmax(prediction,axis=1)\n",
        "    scores.append(f1_score(prediction,y_testnew,average='micro'))\n",
        "finalscores.append(np.max(scores))"
      ],
      "execution_count": null,
      "outputs": []
    },
    {
      "cell_type": "code",
      "metadata": {
        "id": "SRE3HGA3u25r",
        "colab_type": "code",
        "colab": {
          "base_uri": "https://localhost:8080/",
          "height": 238
        },
        "outputId": "1fae5e15-ab6a-4611-9785-60025cb5454d"
      },
      "source": [
        "from tabulate import tabulate\n",
        "table = [[\"FC\", finalscores[0]*100], [\"svm\", finalscores[1]*100], [\"DT\", finalscores[2]*100], [\"LR\", finalscores[3]*100], [\"KN\", finalscores[4]*100]]\n",
        "headers = [\"dataseta\",\"DenseNet201\"]\n",
        "print(tabulate(table, headers,tablefmt='grid'))\n",
        "np.save('finalscores_dataset[B]',finalscores)\n",
        "!cp finalscores_dataset[B].npy \"/content/drive/My Drive/result/modela\""
      ],
      "execution_count": null,
      "outputs": [
        {
          "output_type": "stream",
          "text": [
            "+------------+---------------+\n",
            "| dataseta   |   DenseNet201 |\n",
            "+============+===============+\n",
            "| FC         |          99.6 |\n",
            "+------------+---------------+\n",
            "| svm        |          99   |\n",
            "+------------+---------------+\n",
            "| DT         |          96.8 |\n",
            "+------------+---------------+\n",
            "| LR         |          99.2 |\n",
            "+------------+---------------+\n",
            "| KN         |          98   |\n",
            "+------------+---------------+\n"
          ],
          "name": "stdout"
        }
      ]
    },
    {
      "cell_type": "markdown",
      "metadata": {
        "id": "69xpPzf6vFyM",
        "colab_type": "text"
      },
      "source": [
        "MODEL A data set c"
      ]
    },
    {
      "cell_type": "code",
      "metadata": {
        "id": "I4ySi1Lav3KP",
        "colab_type": "code",
        "colab": {}
      },
      "source": [
        "x_train=np.load('/content/drive/My Drive/datasets/datasetc/xtrain.npy')\n",
        "y_train=np.load('/content/drive/My Drive/datasets/dataseta/ytrain.npy')\n",
        "x_test=np.load('/content/drive/My Drive/datasets/datasetc/xtest.npy')\n",
        "y_test=np.load('/content/drive/My Drive/datasets/dataseta/ytest.npy')"
      ],
      "execution_count": null,
      "outputs": []
    },
    {
      "cell_type": "code",
      "metadata": {
        "id": "cDt1NpLZ6foG",
        "colab_type": "code",
        "colab": {}
      },
      "source": [
        "finalscores=[]"
      ],
      "execution_count": null,
      "outputs": []
    },
    {
      "cell_type": "code",
      "metadata": {
        "id": "N_apqYou6ikf",
        "colab_type": "code",
        "colab": {
          "base_uri": "https://localhost:8080/",
          "height": 472
        },
        "outputId": "ab43fc7f-dde0-457f-9b9d-9da2bea17692"
      },
      "source": [
        "model =DenseNet201(include_top=False,weights='imagenet',input_shape=(224,224,3))\n",
        "x = model.output\n",
        "x=tf.keras.layers.GlobalAveragePooling2D()(x)\n",
        "x=tf.keras.layers.Dense(1024,activation='relu')(x)\n",
        "x=tf.keras.layers.Dense(512,activation='relu')(x)\n",
        "x=tf.keras.layers.Dense(10,activation='softmax')(x)\n",
        "model2 = tf.keras.models.Model(inputs=model.input, outputs=x)\n",
        "for layer in model2.layers[:-3]:\n",
        "  layer.trainable = False\n",
        "model2.summary()\n",
        "model2.compile(optimizer='Adam',loss='categorical_crossentropy',metrics=['accuracy'])\n",
        "class myCallback(tf.keras.callbacks.Callback):\n",
        "  def on_epoch_end(self, epoch, logs={}):\n",
        "    if(logs.get('accuracy') == 1):\n",
        "      if(logs.get('val_accuracy') == 1):\n",
        "        self.model.stop_training = True\n",
        "callbacks = [myCallback()]\n",
        "history=model2.fit(x_train,y_train,batch_size=128,epochs=50,validation_data=(x_test,y_test),shuffle=True,callbacks=callbacks)\n",
        "q=model2.predict(x_test)\n",
        "yhat=np.argmax(q,axis=1)\n",
        "y=np.argmax(y_test,axis=1)\n",
        "plt.plot(history.history['accuracy'],marker='+',c='red')\n",
        "plt.plot(history.history['loss'],marker='+',c='blue')\n",
        "plt.plot(history.history['val_accuracy'],marker='+',c='green')\n",
        "plt.plot(history.history['val_loss'],marker='+',c='orange')\n",
        "plt.legend(['acc','loss','val_acc','val_loss'])\n",
        "plt.show()\n",
        "scores=f1_score(yhat,y,average='micro')\n",
        "finalscores.append(scores)"
      ],
      "execution_count": null,
      "outputs": [
        {
          "output_type": "stream",
          "text": [
            "20/20 [==============================] - 10s 488ms/step - loss: 0.7043 - accuracy: 0.7924 - val_loss: 0.1140 - val_accuracy: 0.9760\n",
            "Epoch 2/50\n",
            "20/20 [==============================] - 7s 338ms/step - loss: 0.0720 - accuracy: 0.9788 - val_loss: 0.0282 - val_accuracy: 0.9960\n",
            "Epoch 3/50\n",
            "20/20 [==============================] - 7s 339ms/step - loss: 0.0216 - accuracy: 0.9960 - val_loss: 0.0179 - val_accuracy: 0.9960\n",
            "Epoch 4/50\n",
            "20/20 [==============================] - 7s 339ms/step - loss: 0.0175 - accuracy: 0.9964 - val_loss: 0.0438 - val_accuracy: 0.9820\n",
            "Epoch 5/50\n",
            "20/20 [==============================] - 7s 340ms/step - loss: 0.0303 - accuracy: 0.9896 - val_loss: 0.0103 - val_accuracy: 1.0000\n",
            "Epoch 6/50\n",
            "20/20 [==============================] - 7s 338ms/step - loss: 0.0056 - accuracy: 1.0000 - val_loss: 0.0047 - val_accuracy: 1.0000\n"
          ],
          "name": "stdout"
        },
        {
          "output_type": "display_data",
          "data": {
            "image/png": "[encoded data removed]",
            "text/plain": [
              "<Figure size 432x288 with 1 Axes>"
            ]
          },
          "metadata": {
            "tags": [],
            "needs_background": "light"
          }
        }
      ]
    },
    {
      "cell_type": "code",
      "metadata": {
        "id": "B2KO3uzM6lCU",
        "colab_type": "code",
        "colab": {}
      },
      "source": [
        "y_trainnew=np.argmax(y_train,axis=1)\n",
        "xtrainnew=model3.predict(x_train)\n",
        "y_testnew=np.argmax(y_test,axis=1)\n",
        "xtestnew=model3.predict(x_test)"
      ],
      "execution_count": null,
      "outputs": []
    },
    {
      "cell_type": "code",
      "metadata": {
        "id": "xTdZZHLk6ljb",
        "colab_type": "code",
        "colab": {}
      },
      "source": [
        "names=['linear', 'poly', 'rbf', 'sigmoid',]\n",
        "scores=[]\n",
        "for i in names: \n",
        "  clf=SVC(kernel=i,gamma='auto',probability=True,C=1)\n",
        "  prediction = clf.fit(xtrainnew,y_trainnew).predict_proba(xtestnew)\n",
        "  prediction=np.argmax(prediction,axis=1)\n",
        "  scores.append(f1_score(prediction,y_testnew,average='micro'))\n",
        "\n",
        "finalscores.append(np.max(scores))"
      ],
      "execution_count": null,
      "outputs": []
    },
    {
      "cell_type": "code",
      "metadata": {
        "id": "xYO5--nR6oyw",
        "colab_type": "code",
        "colab": {}
      },
      "source": [
        "names=['gini','entropy']\n",
        "scores=[]\n",
        "for i in names:\n",
        "  for j in np.arange(1,41):\n",
        "    decisiontree = DecisionTreeClassifier(criterion=i,random_state=0, max_depth=j) \n",
        "    prediction = decisiontree.fit(xtrainnew,y_trainnew).predict_proba(xtestnew)\n",
        "    prediction=np.argmax(prediction,axis=1)\n",
        "    scores.append(f1_score(prediction,y_testnew,average='micro'))\n",
        "finalscores.append(np.max(scores))"
      ],
      "execution_count": null,
      "outputs": []
    },
    {
      "cell_type": "code",
      "metadata": {
        "id": "0A2uCsUW6pho",
        "colab_type": "code",
        "colab": {
          "base_uri": "https://localhost:8080/",
          "height": 173
        },
        "outputId": "2c8101c7-b0a4-4499-b42c-f12c5cd1ae56"
      },
      "source": [
        "names=['newton-cg', 'sag', 'saga' , 'lbfgs']\n",
        "scores=[]\n",
        "for i in names:\n",
        "  clf=LogisticRegression(solver=i,class_weight='balanced', max_iter=1000)\n",
        "  prediction = clf.fit(xtrainnew,y_trainnew).predict_proba(xtestnew)\n",
        "  prediction=np.argmax(prediction,axis=1)\n",
        "  scores.append(f1_score(prediction,y_testnew,average='micro'))\n",
        "\n",
        "finalscores.append(np.max(scores))"
      ],
      "execution_count": null,
      "outputs": [
        {
          "output_type": "stream",
          "text": [
            "/usr/local/lib/python3.6/dist-packages/sklearn/linear_model/_logistic.py:940: ConvergenceWarning: lbfgs failed to converge (status=1):\n",
            "STOP: TOTAL NO. of ITERATIONS REACHED LIMIT.\n",
            "\n",
            "Increase the number of iterations (max_iter) or scale the data as shown in:\n",
            "    https://scikit-learn.org/stable/modules/preprocessing.html\n",
            "Please also refer to the documentation for alternative solver options:\n",
            "    https://scikit-learn.org/stable/modules/linear_model.html#logistic-regression\n",
            "  extra_warning_msg=_LOGISTIC_SOLVER_CONVERGENCE_MSG)\n"
          ],
          "name": "stderr"
        }
      ]
    },
    {
      "cell_type": "code",
      "metadata": {
        "id": "wNL8pfmE6rwo",
        "colab_type": "code",
        "colab": {}
      },
      "source": [
        "algorithm=['ball_tree', 'kd_tree', 'brute']\n",
        "scores=[]\n",
        "for i in algorithm:\n",
        "  for j in np.arange(1,50):\n",
        "    clf = KNeighborsClassifier(j, p=2,metric='minkowski',algorithm=i)\n",
        "    prediction = clf.fit(xtrainnew,y_trainnew).predict_proba(xtestnew)\n",
        "    prediction =np.argmax(prediction,axis=1)\n",
        "    scores.append(f1_score(prediction,y_testnew,average='micro'))\n",
        "finalscores.append(np.max(scores))"
      ],
      "execution_count": null,
      "outputs": []
    },
    {
      "cell_type": "code",
      "metadata": {
        "id": "O67tG21D6uEH",
        "colab_type": "code",
        "colab": {
          "base_uri": "https://localhost:8080/",
          "height": 238
        },
        "outputId": "59c24688-17c1-43a4-8726-31559c4d44fc"
      },
      "source": [
        "from tabulate import tabulate\n",
        "table = [[\"FC\", finalscores[0]*100], [\"svm\", finalscores[1]*100], [\"DT\", finalscores[2]*100], [\"LR\", finalscores[3]*100], [\"KN\", finalscores[4]*100]]\n",
        "headers = [\"dataseta\",\"DenseNet201\"]\n",
        "print(tabulate(table, headers,tablefmt='grid'))"
      ],
      "execution_count": null,
      "outputs": [
        {
          "output_type": "stream",
          "text": [
            "+------------+---------------+\n",
            "| dataseta   |   DenseNet201 |\n",
            "+============+===============+\n",
            "| FC         |         100   |\n",
            "+------------+---------------+\n",
            "| svm        |         100   |\n",
            "+------------+---------------+\n",
            "| DT         |          98.2 |\n",
            "+------------+---------------+\n",
            "| LR         |         100   |\n",
            "+------------+---------------+\n",
            "| KN         |          99.4 |\n",
            "+------------+---------------+\n"
          ],
          "name": "stdout"
        }
      ]
    },
    {
      "cell_type": "code",
      "metadata": {
        "id": "DS_kdZ216xxZ",
        "colab_type": "code",
        "colab": {}
      },
      "source": [
        "np.save('finalscores_dataset[c]',finalscores)\n",
        "!cp finalscores_dataset[c].npy \"/content/drive/My Drive/result/modela\""
      ],
      "execution_count": null,
      "outputs": []
    },
    {
      "cell_type": "markdown",
      "metadata": {
        "id": "SBIQjqagJoVh",
        "colab_type": "text"
      },
      "source": [
        "model a data set D"
      ]
    },
    {
      "cell_type": "code",
      "metadata": {
        "id": "TLWgZtfYJpik",
        "colab_type": "code",
        "colab": {}
      },
      "source": [
        "x_train=np.load('/content/drive/My Drive/datasets/datasetd/xtrain.npy')\n",
        "y_train=np.load('/content/drive/My Drive/datasets/dataseta/ytrain.npy')\n",
        "x_test=np.load('/content/drive/My Drive/datasets/datasetd/xtest.npy')\n",
        "y_test=np.load('/content/drive/My Drive/datasets/dataseta/ytest.npy')"
      ],
      "execution_count": null,
      "outputs": []
    },
    {
      "cell_type": "code",
      "metadata": {
        "id": "OILLDT7JJuzU",
        "colab_type": "code",
        "colab": {}
      },
      "source": [
        "finalscores=[]"
      ],
      "execution_count": null,
      "outputs": []
    },
    {
      "cell_type": "code",
      "metadata": {
        "id": "FrANeYAtJyZ1",
        "colab_type": "code",
        "colab": {}
      },
      "source": [
        "model =DenseNet201(include_top=False,weights='imagenet',input_shape=(224,224,3))\n",
        "x = model.output\n",
        "x=tf.keras.layers.GlobalAveragePooling2D()(x)\n",
        "x=tf.keras.layers.Dense(1024,activation='relu')(x)\n",
        "x=tf.keras.layers.Dense(512,activation='relu')(x)\n",
        "x=tf.keras.layers.Dense(10,activation='softmax')(x)\n",
        "model2 = tf.keras.models.Model(inputs=model.input, outputs=x)\n",
        "for layer in model2.layers[:-3]:\n",
        "  layer.trainable = False\n",
        "model2.summary()\n",
        "model2.compile(optimizer='Adam',loss='categorical_crossentropy',metrics=['accuracy'])\n",
        "class myCallback(tf.keras.callbacks.Callback):\n",
        "  def on_epoch_end(self, epoch, logs={}):\n",
        "    if(logs.get('accuracy') == 1):\n",
        "      if(logs.get('val_accuracy') == 1):\n",
        "        self.model.stop_training = True\n",
        "callbacks = [myCallback()]\n",
        "history=model2.fit(x_train,y_train,batch_size=128,epochs=50,validation_data=(x_test,y_test),shuffle=True,callbacks=callbacks)\n",
        "q=model2.predict(x_test)\n",
        "yhat=np.argmax(q,axis=1)\n",
        "y=np.argmax(y_test,axis=1)\n",
        "plt.plot(history.history['accuracy'],marker='+',c='red')\n",
        "plt.plot(history.history['loss'],marker='+',c='blue')\n",
        "plt.plot(history.history['val_accuracy'],marker='+',c='green')\n",
        "plt.plot(history.history['val_loss'],marker='+',c='orange')\n",
        "plt.legend(['acc','loss','val_acc','val_loss'])\n",
        "plt.show()\n",
        "scores=f1_score(yhat,y,average='micro')\n",
        "finalscores.append(scores)"
      ],
      "execution_count": null,
      "outputs": []
    },
    {
      "cell_type": "code",
      "metadata": {
        "id": "7pvUzvcMJ02S",
        "colab_type": "code",
        "colab": {}
      },
      "source": [
        "model =DenseNet201(include_top=False,weights='imagenet',input_shape=(224,224,3))\n",
        "x = model.output\n",
        "x=tf.keras.layers.GlobalAveragePooling2D()(x)\n",
        "model3 = tf.keras.models.Model(inputs=model.input, outputs=x)\n",
        "for layer in model3.layers[:]:\n",
        "  layer.trainable = False\n",
        "model3.summary()"
      ],
      "execution_count": null,
      "outputs": []
    },
    {
      "cell_type": "code",
      "metadata": {
        "id": "jaDOY-iTJ1mi",
        "colab_type": "code",
        "colab": {}
      },
      "source": [
        "y_trainnew=np.argmax(y_train,axis=1)\n",
        "xtrainnew=model3.predict(x_train)\n",
        "y_testnew=np.argmax(y_test,axis=1)\n",
        "xtestnew=model3.predict(x_test)"
      ],
      "execution_count": null,
      "outputs": []
    },
    {
      "cell_type": "code",
      "metadata": {
        "id": "AGp10enwJ4ho",
        "colab_type": "code",
        "colab": {}
      },
      "source": [
        "names=['linear', 'poly', 'rbf', 'sigmoid',]\n",
        "scores=[]\n",
        "for i in names: \n",
        "  clf=SVC(kernel=i,gamma='auto',probability=True,C=1)\n",
        "  prediction = clf.fit(xtrainnew,y_trainnew).predict_proba(xtestnew)\n",
        "  prediction=np.argmax(prediction,axis=1)\n",
        "  scores.append(f1_score(prediction,y_testnew,average='micro'))\n",
        "\n",
        "finalscores.append(np.max(scores))"
      ],
      "execution_count": null,
      "outputs": []
    },
    {
      "cell_type": "code",
      "metadata": {
        "id": "tRiAh0oTJ75B",
        "colab_type": "code",
        "colab": {}
      },
      "source": [
        "names=['gini','entropy']\n",
        "scores=[]\n",
        "for i in names:\n",
        "  for j in np.arange(1,41):\n",
        "    decisiontree = DecisionTreeClassifier(criterion=i,random_state=0, max_depth=j) \n",
        "    prediction = decisiontree.fit(xtrainnew,y_trainnew).predict_proba(xtestnew)\n",
        "    prediction=np.argmax(prediction,axis=1)\n",
        "    scores.append(f1_score(prediction,y_testnew,average='micro'))\n",
        "finalscores.append(np.max(scores)) "
      ],
      "execution_count": null,
      "outputs": []
    },
    {
      "cell_type": "code",
      "metadata": {
        "id": "g2SO_lKmJ8mJ",
        "colab_type": "code",
        "colab": {}
      },
      "source": [
        "names=['newton-cg', 'sag', 'saga' , 'lbfgs']\n",
        "scores=[]\n",
        "for i in names:\n",
        "  clf=LogisticRegression(solver=i,class_weight='balanced', max_iter=1000)\n",
        "  prediction = clf.fit(xtrainnew,y_trainnew).predict_proba(xtestnew)\n",
        "  prediction=np.argmax(prediction,axis=1)\n",
        "  scores.append(f1_score(prediction,y_testnew,average='micro'))\n",
        "\n",
        "finalscores.append(np.max(scores))"
      ],
      "execution_count": null,
      "outputs": []
    },
    {
      "cell_type": "code",
      "metadata": {
        "id": "62rZPCpyJ-oz",
        "colab_type": "code",
        "colab": {}
      },
      "source": [
        "algorithm=['ball_tree', 'kd_tree', 'brute']\n",
        "scores=[]\n",
        "for i in algorithm:\n",
        "  for j in np.arange(1,50):\n",
        "    clf = KNeighborsClassifier(j, p=2,metric='minkowski',algorithm=i)\n",
        "    prediction = clf.fit(xtrainnew,y_trainnew).predict_proba(xtestnew)\n",
        "    prediction =np.argmax(prediction,axis=1)\n",
        "    scores.append(f1_score(prediction,y_testnew,average='micro'))\n",
        "finalscores.append(np.max(scores))"
      ],
      "execution_count": null,
      "outputs": []
    },
    {
      "cell_type": "code",
      "metadata": {
        "id": "d_To11I0KAu8",
        "colab_type": "code",
        "colab": {
          "base_uri": "https://localhost:8080/",
          "height": 238
        },
        "outputId": "74dd667d-31bf-496e-ffd4-75d15740a3ee"
      },
      "source": [
        "from tabulate import tabulate\n",
        "table = [[\"FC\", finalscores[0]*100], [\"svm\", finalscores[1]*100], [\"DT\", finalscores[2]*100], [\"LR\", finalscores[3]*100], [\"KN\", finalscores[4]*100]]\n",
        "headers = [\"dataseta\",\"DenseNet201\"]\n",
        "print(tabulate(table, headers,tablefmt='grid'))"
      ],
      "execution_count": null,
      "outputs": [
        {
          "output_type": "stream",
          "text": [
            "+------------+---------------+\n",
            "| dataseta   |   DenseNet201 |\n",
            "+============+===============+\n",
            "| FC         |         100   |\n",
            "+------------+---------------+\n",
            "| svm        |         100   |\n",
            "+------------+---------------+\n",
            "| DT         |          98   |\n",
            "+------------+---------------+\n",
            "| LR         |          99.8 |\n",
            "+------------+---------------+\n",
            "| KN         |          99.4 |\n",
            "+------------+---------------+\n"
          ],
          "name": "stdout"
        }
      ]
    },
    {
      "cell_type": "code",
      "metadata": {
        "id": "VUBr13qNKDxb",
        "colab_type": "code",
        "colab": {}
      },
      "source": [
        "np.save('finalscores_dataset[D]',finalscores)\n",
        "!cp finalscores_dataset[D].npy \"/content/drive/My Drive/result/modela\""
      ],
      "execution_count": null,
      "outputs": []
    }
  ]
}